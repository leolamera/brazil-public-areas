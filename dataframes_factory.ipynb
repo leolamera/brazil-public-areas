{
 "cells": [
  {
   "cell_type": "markdown",
   "metadata": {},
   "source": [
    "# Dataframe Factory\n",
    "We will use two public dataset to create a unique dataset to scrapy some neighborhood in brazil."
   ]
  },
  {
   "cell_type": "code",
   "execution_count": 54,
   "metadata": {},
   "outputs": [],
   "source": [
    "# Dependencies\n",
    "import pandas as pd\n",
    "from unidecode import unidecode\n",
    "import numpy as np\n",
    "import requests\n",
    "import uuid"
   ]
  },
  {
   "cell_type": "code",
   "execution_count": 11,
   "metadata": {},
   "outputs": [],
   "source": [
    "# Use public dataframes\n",
    "\n",
    "states = pd.read_csv(\"https://raw.githubusercontent.com/kelvins/Municipios-Brasileiros/main/csv/estados.csv\")\n",
    "cities = pd.read_csv(\"https://raw.githubusercontent.com/kelvins/Municipios-Brasileiros/main/csv/municipios.csv\")"
   ]
  },
  {
   "cell_type": "code",
   "execution_count": 20,
   "metadata": {},
   "outputs": [
    {
     "name": "stdout",
     "output_type": "stream",
     "text": [
      "total rows in uf_codes 5570\n",
      "total row in uf_order_by_code 5570\n"
     ]
    }
   ],
   "source": [
    "# Create column with UF names in the order of cities\n",
    "uf_codes = cities[\"codigo_uf\"]\n",
    "uf_order_by_code = []\n",
    "for code in uf_codes:\n",
    "    row = states.loc[states[\"codigo_uf\"] == code]\n",
    "    uf_order_by_code.append(row[\"uf\"].values[0])\n",
    "    \n",
    "print(f\"total rows in uf_codes {len(uf_codes)}\")\n",
    "print(f\"total row in uf_order_by_code {len(uf_order_by_code)}\")"
   ]
  },
  {
   "cell_type": "code",
   "execution_count": 83,
   "metadata": {},
   "outputs": [
    {
     "name": "stdout",
     "output_type": "stream",
     "text": [
      "total row in formated_names 5570\n"
     ]
    }
   ],
   "source": [
    "# Format the cities names\n",
    "cities_names = cities[\"nome\"].values\n",
    "formated_names = []\n",
    "for city_name in cities_names:\n",
    "    formated_city_name = unidecode(city_name)\n",
    "    formated_names.append(formated_city_name)\n",
    "    \n",
    "print(f\"total row in formated_names {len(formated_names)}\")"
   ]
  },
  {
   "cell_type": "code",
   "execution_count": 84,
   "metadata": {},
   "outputs": [
    {
     "name": "stdout",
     "output_type": "stream",
     "text": [
      "total row in capital 5570\n",
      "total row in cities_ids 5570\n"
     ]
    }
   ],
   "source": [
    "# Create capital column and set unique id for each city\n",
    "capital = cities[\"capital\"].values\n",
    "cities_ids = []\n",
    "for index in range(len(capital)):\n",
    "    cities_ids.append(uuid.uuid4())\n",
    "\n",
    "print(f\"total row in capital {len(capital)}\")\n",
    "print(f\"total row in cities_ids {len(set(cities_ids))}\")"
   ]
  },
  {
   "cell_type": "code",
   "execution_count": 96,
   "metadata": {},
   "outputs": [],
   "source": [
    "# Create new dataframe\n",
    "df_blueprint = {\n",
    "    \"city_id\": cities_ids,\n",
    "    \"city_names\": formated_names,\n",
    "    \"relative_uf\": uf_order_by_code,\n",
    "    \"capital\": capital    \n",
    "}\n",
    "\n",
    "df = pd.DataFrame(df_blueprint)\n",
    "df\n",
    "df.to_csv(\"./csv/br-cities.csv\")"
   ]
  },
  {
   "cell_type": "code",
   "execution_count": 86,
   "metadata": {},
   "outputs": [
    {
     "name": "stdout",
     "output_type": "stream",
     "text": [
      "total row in endpoints 5570\n"
     ]
    }
   ],
   "source": [
    "# Create endpoint column to the crawler\n",
    "endpoints = []\n",
    "for index, row in df.iterrows():\n",
    "    city_names = row[\"city_names\"]\n",
    "    uf = row[\"relative_uf\"]\n",
    "    str_city_uf = f\"{city_names} {uf}\"\n",
    "    str_formated = str_city_uf.replace(\" \", \"-\").lower()\n",
    "    full_endpoint = f\"https://www.guiamais.com.br/bairros/{str_formated}\"\n",
    "    endpoints.append(full_endpoint)\n",
    "    \n",
    "print(f\"total row in endpoints {len(endpoints)}\")"
   ]
  },
  {
   "cell_type": "code",
   "execution_count": 101,
   "metadata": {},
   "outputs": [
    {
     "data": {
      "text/html": [
       "<div>\n",
       "<style scoped>\n",
       "    .dataframe tbody tr th:only-of-type {\n",
       "        vertical-align: middle;\n",
       "    }\n",
       "\n",
       "    .dataframe tbody tr th {\n",
       "        vertical-align: top;\n",
       "    }\n",
       "\n",
       "    .dataframe thead th {\n",
       "        text-align: right;\n",
       "    }\n",
       "</style>\n",
       "<table border=\"1\" class=\"dataframe\">\n",
       "  <thead>\n",
       "    <tr style=\"text-align: right;\">\n",
       "      <th></th>\n",
       "      <th>city_id</th>\n",
       "      <th>city_names</th>\n",
       "      <th>relative_uf</th>\n",
       "      <th>capital</th>\n",
       "      <th>endpoints</th>\n",
       "    </tr>\n",
       "  </thead>\n",
       "  <tbody>\n",
       "    <tr>\n",
       "      <th>0</th>\n",
       "      <td>432dd075-2bca-479c-8728-bb0580b5767b</td>\n",
       "      <td>Abadia de Goias</td>\n",
       "      <td>GO</td>\n",
       "      <td>0</td>\n",
       "      <td>https://www.guiamais.com.br/bairros/abadia-de-...</td>\n",
       "    </tr>\n",
       "    <tr>\n",
       "      <th>1</th>\n",
       "      <td>5f6fa223-a94d-48e2-aa2a-b47a1b282ef3</td>\n",
       "      <td>Abadia dos Dourados</td>\n",
       "      <td>MG</td>\n",
       "      <td>0</td>\n",
       "      <td>https://www.guiamais.com.br/bairros/abadia-dos...</td>\n",
       "    </tr>\n",
       "    <tr>\n",
       "      <th>2</th>\n",
       "      <td>06295a45-0a70-4cb2-920a-d5cbaceb5e06</td>\n",
       "      <td>Abadiania</td>\n",
       "      <td>GO</td>\n",
       "      <td>0</td>\n",
       "      <td>https://www.guiamais.com.br/bairros/abadiania-go</td>\n",
       "    </tr>\n",
       "    <tr>\n",
       "      <th>3</th>\n",
       "      <td>3a43e1ad-8a2c-4fd5-b263-6a69e1abf08f</td>\n",
       "      <td>Abaete</td>\n",
       "      <td>MG</td>\n",
       "      <td>0</td>\n",
       "      <td>https://www.guiamais.com.br/bairros/abaete-mg</td>\n",
       "    </tr>\n",
       "    <tr>\n",
       "      <th>4</th>\n",
       "      <td>e14e4682-7a83-4895-9dc7-829ddd44be6b</td>\n",
       "      <td>Abaetetuba</td>\n",
       "      <td>PA</td>\n",
       "      <td>0</td>\n",
       "      <td>https://www.guiamais.com.br/bairros/abaetetuba-pa</td>\n",
       "    </tr>\n",
       "    <tr>\n",
       "      <th>...</th>\n",
       "      <td>...</td>\n",
       "      <td>...</td>\n",
       "      <td>...</td>\n",
       "      <td>...</td>\n",
       "      <td>...</td>\n",
       "    </tr>\n",
       "    <tr>\n",
       "      <th>5565</th>\n",
       "      <td>5ef428b7-18b9-451a-b7c9-1582be4e6578</td>\n",
       "      <td>Xique-Xique</td>\n",
       "      <td>BA</td>\n",
       "      <td>0</td>\n",
       "      <td>https://www.guiamais.com.br/bairros/xique-xiqu...</td>\n",
       "    </tr>\n",
       "    <tr>\n",
       "      <th>5566</th>\n",
       "      <td>8abed599-5116-4771-bd63-aa61eec8fd18</td>\n",
       "      <td>Zabele</td>\n",
       "      <td>PB</td>\n",
       "      <td>0</td>\n",
       "      <td>https://www.guiamais.com.br/bairros/zabele-pb</td>\n",
       "    </tr>\n",
       "    <tr>\n",
       "      <th>5567</th>\n",
       "      <td>c8e052fe-f959-4734-a180-e284ee970b74</td>\n",
       "      <td>Zacarias</td>\n",
       "      <td>SP</td>\n",
       "      <td>0</td>\n",
       "      <td>https://www.guiamais.com.br/bairros/zacarias-sp</td>\n",
       "    </tr>\n",
       "    <tr>\n",
       "      <th>5568</th>\n",
       "      <td>66df7679-7d2a-4c0b-a076-7f6f71494f89</td>\n",
       "      <td>Ze Doca</td>\n",
       "      <td>MA</td>\n",
       "      <td>0</td>\n",
       "      <td>https://www.guiamais.com.br/bairros/ze-doca-ma</td>\n",
       "    </tr>\n",
       "    <tr>\n",
       "      <th>5569</th>\n",
       "      <td>a1286400-3fc1-48c3-8f83-ea395336d537</td>\n",
       "      <td>Zortea</td>\n",
       "      <td>SC</td>\n",
       "      <td>0</td>\n",
       "      <td>https://www.guiamais.com.br/bairros/zortea-sc</td>\n",
       "    </tr>\n",
       "  </tbody>\n",
       "</table>\n",
       "<p>5570 rows × 5 columns</p>\n",
       "</div>"
      ],
      "text/plain": [
       "                                   city_id           city_names relative_uf  \\\n",
       "0     432dd075-2bca-479c-8728-bb0580b5767b      Abadia de Goias          GO   \n",
       "1     5f6fa223-a94d-48e2-aa2a-b47a1b282ef3  Abadia dos Dourados          MG   \n",
       "2     06295a45-0a70-4cb2-920a-d5cbaceb5e06            Abadiania          GO   \n",
       "3     3a43e1ad-8a2c-4fd5-b263-6a69e1abf08f               Abaete          MG   \n",
       "4     e14e4682-7a83-4895-9dc7-829ddd44be6b           Abaetetuba          PA   \n",
       "...                                    ...                  ...         ...   \n",
       "5565  5ef428b7-18b9-451a-b7c9-1582be4e6578          Xique-Xique          BA   \n",
       "5566  8abed599-5116-4771-bd63-aa61eec8fd18               Zabele          PB   \n",
       "5567  c8e052fe-f959-4734-a180-e284ee970b74             Zacarias          SP   \n",
       "5568  66df7679-7d2a-4c0b-a076-7f6f71494f89              Ze Doca          MA   \n",
       "5569  a1286400-3fc1-48c3-8f83-ea395336d537               Zortea          SC   \n",
       "\n",
       "      capital                                          endpoints  \n",
       "0           0  https://www.guiamais.com.br/bairros/abadia-de-...  \n",
       "1           0  https://www.guiamais.com.br/bairros/abadia-dos...  \n",
       "2           0   https://www.guiamais.com.br/bairros/abadiania-go  \n",
       "3           0      https://www.guiamais.com.br/bairros/abaete-mg  \n",
       "4           0  https://www.guiamais.com.br/bairros/abaetetuba-pa  \n",
       "...       ...                                                ...  \n",
       "5565        0  https://www.guiamais.com.br/bairros/xique-xiqu...  \n",
       "5566        0      https://www.guiamais.com.br/bairros/zabele-pb  \n",
       "5567        0    https://www.guiamais.com.br/bairros/zacarias-sp  \n",
       "5568        0     https://www.guiamais.com.br/bairros/ze-doca-ma  \n",
       "5569        0      https://www.guiamais.com.br/bairros/zortea-sc  \n",
       "\n",
       "[5570 rows x 5 columns]"
      ]
     },
     "execution_count": 101,
     "metadata": {},
     "output_type": "execute_result"
    }
   ],
   "source": [
    "# Add endpoint column in the main dataframe\n",
    "df[\"endpoints\"] = endpoints\n",
    "df"
   ]
  }
 ],
 "metadata": {
  "kernelspec": {
   "display_name": "Python 3",
   "language": "python",
   "name": "python3"
  },
  "language_info": {
   "codemirror_mode": {
    "name": "ipython",
    "version": 3
   },
   "file_extension": ".py",
   "mimetype": "text/x-python",
   "name": "python",
   "nbconvert_exporter": "python",
   "pygments_lexer": "ipython3",
   "version": "3.8.5"
  }
 },
 "nbformat": 4,
 "nbformat_minor": 4
}
